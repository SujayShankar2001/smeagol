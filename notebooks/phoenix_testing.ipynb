{
 "cells": [
  {
   "cell_type": "code",
   "execution_count": 18,
   "id": "0d425b8f",
   "metadata": {},
   "outputs": [],
   "source": [
    "from gollum import phoenix"
   ]
  },
  {
   "cell_type": "code",
   "execution_count": 19,
   "id": "9cbcaec8",
   "metadata": {},
   "outputs": [
    {
     "name": "stdout",
     "output_type": "stream",
     "text": [
      "\n",
      "PHOENIX Spectrum\n",
      "-----------------\n",
      "\n",
      "A container for a single Phoenix grid-point spectrum of wavelength and flux :math:`F(\\lambda)`.\n",
      "\n",
      "PHOENIXSpectrum\n",
      "###############\n",
      "\n"
     ]
    }
   ],
   "source": [
    "print(phoenix.__doc__)"
   ]
  }
 ],
 "metadata": {
  "kernelspec": {
   "display_name": "gollum_dev",
   "language": "python",
   "name": "gollum_dev"
  },
  "language_info": {
   "codemirror_mode": {
    "name": "ipython",
    "version": 3
   },
   "file_extension": ".py",
   "mimetype": "text/x-python",
   "name": "python",
   "nbconvert_exporter": "python",
   "pygments_lexer": "ipython3",
   "version": "3.8.12"
  }
 },
 "nbformat": 4,
 "nbformat_minor": 5
}
